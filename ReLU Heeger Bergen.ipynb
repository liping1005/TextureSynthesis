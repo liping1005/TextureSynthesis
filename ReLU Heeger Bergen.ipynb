{
 "cells": [
  {
   "cell_type": "markdown",
   "metadata": {},
   "source": [
    "This is my implementation of a new type of Heeger Bergen algorithm for texture synthesis. I double number of filters and use relu to modify algorithm. This still makes invertible pyramid."
   ]
  },
  {
   "cell_type": "markdown",
   "metadata": {},
   "source": [
    "# Title"
   ]
  },
  {
   "cell_type": "code",
   "execution_count": null,
   "metadata": {},
   "outputs": [],
   "source": [
    "import numpy as np\n",
    "import math\n",
    "import numpy.fft as fft\n",
    "\n",
    "import matplotlib.pyplot as plt\n",
    "import matplotlib.image as mpimg\n",
    "%matplotlib inline"
   ]
  },
  {
   "cell_type": "code",
   "execution_count": null,
   "metadata": {},
   "outputs": [],
   "source": [
    "img_orig = mpimg.imread('D4.gif')\n",
    "img = img_orig[:256, :256] / 255\n",
    "M = img.shape[0]\n",
    "N = img.shape[1]\n",
    "plt.imshow(img, cmap='gray')"
   ]
  },
  {
   "cell_type": "markdown",
   "metadata": {},
   "source": [
    "# Filters"
   ]
  },
  {
   "cell_type": "code",
   "execution_count": null,
   "metadata": {},
   "outputs": [],
   "source": [
    "def Hj(r, j):\n",
    "    if(r < 0):\n",
    "        r = -r #check input\n",
    "    if(r <= np.pi/(2**(j+1))):\n",
    "        out = 0\n",
    "    elif(r <= np.pi/(2**j)):\n",
    "        out = np.cos((np.pi/2) * np.log2((2**j)*r/np.pi))\n",
    "    else:\n",
    "        out = 1\n",
    "    return out\n",
    "\n",
    "def Lj(r, j):\n",
    "    if(r < 0):\n",
    "        r = -r #check input\n",
    "    if(r <= np.pi/(2**(j+1))):\n",
    "        out = 1\n",
    "    elif(r <= np.pi/(2**j)):\n",
    "        out = np.cos(np.pi/2 * np.log2((2**(j+1))*r/np.pi))\n",
    "    else:\n",
    "        out = 0\n",
    "    return out\n",
    "\n",
    "def alpha(Q):\n",
    "    y = math.factorial(int(2*Q-2))\n",
    "    return 2**(Q-1) * math.factorial(int(Q-1)) / np.sqrt(Q * y)\n",
    "\n",
    "def G(q, Q, theta):\n",
    "    r1 = theta - np.pi * q/Q\n",
    "    if r1 < -np.pi:\n",
    "        r1 = r1 + 2*np.pi\n",
    "    r2 = theta - np.pi * (q-Q)/Q # r2 = theta + np.pi - np.pi * q/Q\n",
    "    if r2 > np.pi:\n",
    "        r2 = r2 - 2*np.pi\n",
    "    x = np.cos(r1)**(Q-1)\n",
    "    y = np.cos(r2)**(Q-1)\n",
    "    if (np.abs(r1) <= np.pi/2 and np.abs(r2) <= np.pi/2):\n",
    "        out = alpha(Q) * (x + y)\n",
    "    elif (np.abs(r1) >= np.pi/2 and np.abs(r2) <= np.pi/2):\n",
    "        out = alpha(Q) * (y)\n",
    "    elif (np.abs(r1) <= np.pi/2 and np.abs(r2) >= np.pi/2):\n",
    "        out = alpha(Q) * (x)\n",
    "    else:\n",
    "        out = 0\n",
    "    return out\n",
    "\n",
    "def B(r, theta,j,q, Q):\n",
    "    return Hj(r,j) * G(q, Q, theta)\n",
    "\n",
    "def Psi(r, theta, j, q, Q):   \n",
    "    low = Lj(r, j)\n",
    "    high = Hj(r, j+1)\n",
    "    angular = G(q, Q, theta)\n",
    "    \n",
    "    return low * high * angular"
   ]
  },
  {
   "cell_type": "code",
   "execution_count": null,
   "metadata": {},
   "outputs": [],
   "source": [
    "def r_no_theta(x,y):\n",
    "    if(y == 0 and x <= 0):\n",
    "        r = np.abs(x)\n",
    "    else:\n",
    "        r = np.sqrt(x**2 + y**2)\n",
    "    return r\n",
    "\n",
    "def r_with_theta(x,y):\n",
    "    if(y == 0 and x <= 0):\n",
    "        r = np.abs(x)\n",
    "        theta = np.pi\n",
    "    else:\n",
    "        r = np.sqrt(x**2 + y**2)\n",
    "        theta = 2*np.arctan(y/(x+r))\n",
    "    return r, theta\n",
    "\n",
    "def H_matrix(M,N,j=0): \n",
    "    H_mat = np.zeros((M,N), dtype = 'complex')\n",
    "    r = 0 #input cleanse\n",
    "    for m in range(-int(M/2), int(M/2)):\n",
    "        for n in range(-int(N/2), int(N/2)):\n",
    "            r = r_no_theta(2*np.pi*m/M, 2*np.pi*n/N)\n",
    "            H_mat[m + int(M/2),n + int(N/2)] = Hj(r,j)\n",
    "    return H_mat\n",
    "\n",
    "def L_matrix(M,N,j=0): \n",
    "    L_mat = np.zeros((M,N), dtype = 'complex')\n",
    "    r = 0 #input cleanse\n",
    "    for m in range(-int(M/2), int(M/2)):\n",
    "        for n in range(-int(N/2), int(N/2)):\n",
    "            r = r_no_theta(2*np.pi*m/M,2*np.pi*n/N)\n",
    "            L_mat[m + int(M/2),n + int(N/2)] = Lj(r,j)\n",
    "    return L_mat\n",
    "\n",
    "def B_matrix(M, N, j, q, Q):\n",
    "    r= 0 #input cleans\n",
    "    theta=0\n",
    "    B_mat = np.zeros((M,N), dtype = 'complex')\n",
    "    for m in range(-int(M/2), int(M/2)):\n",
    "        for n in range(-int(N/2), int(N/2)):\n",
    "            r, theta = r_with_theta(2*np.pi*m/M,2*np.pi*n/N)\n",
    "            B_mat[m,n] = B(r, theta, j, q, Q)\n",
    "    return B_mat\n",
    "\n",
    "def psi_matrix(M, N, j, q, Q):\n",
    "    r = 0 #input cleans\n",
    "    theta = 0 #input cleans\n",
    "    psi_mat = np.zeros((M,N), dtype = 'complex')\n",
    "    for m in range(-int(M/2), int(M/2)):\n",
    "        for n in range(-int(N/2), int(N/2)):\n",
    "            r, theta = r_with_theta(2*np.pi*m/M,2*np.pi*n/N)\n",
    "            psi_mat[m + int(M/2),n + int(N/2)] = Psi(r, theta, j, q, Q)\n",
    "    return psi_mat\n"
   ]
  },
  {
   "cell_type": "code",
   "execution_count": null,
   "metadata": {},
   "outputs": [],
   "source": [
    "# Seems that in steerable_pyramid_nodownsample you only use H_all_j[:,:,0], so you can probably eliminate \n",
    "# the H_mat_struct function\n",
    "def H_mat_struct(M,N,J):\n",
    "    H_all_j = np.zeros((M,N,J), dtype = 'complex')\n",
    "    for j in range(J):\n",
    "        H_all_j[:,:,j] = H_matrix(M,N,j)\n",
    "    return H_all_j\n",
    "\n",
    "def L_mat_struct(M,N,J):\n",
    "    L_all_j = np.zeros((M,N,J), dtype = 'complex')\n",
    "    for j in range(J):  \n",
    "        L_all_j[:,:,j] = L_matrix(M,N,j)\n",
    "    return L_all_j\n",
    "\n",
    "def B_mat_struct(M,N,J,Q):\n",
    "    B_all_jq = np.zeros((M,N,J,Q), dtype = 'complex')\n",
    "    for j in range(J):\n",
    "        for q in range(Q):\n",
    "            B_all_jq[:,:,j,q] = B_matrix(M, N, j, q, Q)\n",
    "            \n",
    "    return B_all_jq"
   ]
  },
  {
   "cell_type": "code",
   "execution_count": null,
   "metadata": {},
   "outputs": [],
   "source": [
    "P = 4\n",
    "Q = 4\n",
    "\n",
    "#generate matrix for filters, H_mat doesn't have to have so many elements, might be useful\n",
    "H_mat = np.zeros((M,N,P), dtype = 'complex')\n",
    "L_mat = np.zeros((M,N,P+1), dtype = 'complex')\n",
    "B_mat = np.zeros((M,N,P+1,Q), dtype = 'complex')\n",
    "\n",
    "#made all the filters\n",
    "H_mat = H_mat_struct(M,N,P)\n",
    "L_mat = L_mat_struct(M,N,P+1)\n",
    "B_mat = B_mat_struct(M,N,P+1,Q)"
   ]
  },
  {
   "cell_type": "markdown",
   "metadata": {},
   "source": [
    "# Pyramid Algorithm"
   ]
  },
  {
   "cell_type": "code",
   "execution_count": null,
   "metadata": {},
   "outputs": [],
   "source": [
    "def new_pyramid(P, Q, img, H_mat, L_mat, B_mat):\n",
    "    \n",
    "    # Get the dimensions the image\n",
    "    M = img.shape[0]\n",
    "    N = img.shape[1]\n",
    "        \n",
    "    # Initialize pyramid\n",
    "    pyramid = np.zeros((M,N,P*Q+2,2), dtype = 'complex')\n",
    "\n",
    "    #find fft of img to work in frequency\n",
    "    img_fft = np.fft.fft2(img)\n",
    "    \n",
    "    # store high frequency residual\n",
    "    count = 0\n",
    "    pyramid[:,:,count,0] = np.fft.ifft2(np.fft.fftshift(H_mat[:,:,0]) * img_fft)\n",
    "    \n",
    "    # directional wavelet coefficients\n",
    "    count += 1\n",
    "    for j in range(P):\n",
    "        v = np.fft.fftshift(L_mat[:,:,j]) * img_fft # equivalent of step 5 + 6\n",
    "        for q in range(Q):\n",
    "            pyramid[:,:,count,0] = np.fft.ifft2(B_mat[:,:,j+1,q] * v) #step 4\n",
    "            count += 1\n",
    "    pyramid[:,:,count,0] = np.fft.ifft2(np.fft.fftshift(L_mat[:,:,P]) * img_fft)\n",
    "    \n",
    "    #make epsilon = 1 wavelets\n",
    "    pyramid[:,:,:,1] = -pyramid[:,:,:,0]\n",
    "    \n",
    "    #relu\n",
    "    pyramid[pyramid<0]=0\n",
    "    \n",
    "    # return the pyramid\n",
    "    return pyramid"
   ]
  },
  {
   "cell_type": "code",
   "execution_count": null,
   "metadata": {},
   "outputs": [],
   "source": [
    "# Compute the ReLU wavelet pyramid \n",
    "pyra = new_pyramid(P, Q, img, H_mat, L_mat, B_mat)\n",
    "\n",
    "plt.figure()\n",
    "plt.figure(figsize = (4*P, 4*Q))\n",
    "count = 1\n",
    "for j in range(P):\n",
    "    for q in range(Q):\n",
    "        plt.subplot(P, Q, count)\n",
    "        plt.imshow(np.real(pyra[:,:,count,0]) , extent = [0, M, N, 0], cmap = 'gray')\n",
    "        plt.colorbar()\n",
    "        plt.title('j = ' + str(j) + ' q = ' + str(q))\n",
    "        count = count + 1\n",
    "\n",
    "plt.figure()\n",
    "plt.figure(figsize = (4*P, 4*Q))\n",
    "count = 1\n",
    "for j in range(P):\n",
    "    for q in range(Q):\n",
    "        plt.subplot(P, Q, count)\n",
    "        plt.imshow(np.real(pyra[:,:,count,1]) , extent = [0, M, N, 0], cmap = 'gray')\n",
    "        plt.colorbar()\n",
    "        plt.title('j = ' + str(j) + ' q = ' + str(q))\n",
    "        count = count + 1"
   ]
  },
  {
   "cell_type": "code",
   "execution_count": null,
   "metadata": {},
   "outputs": [],
   "source": [
    "# Low pass ReLU coefficients\n",
    "\n",
    "plt.subplot(1,2,1)\n",
    "plt.imshow(np.real(pyra[:,:,P*Q+1,0]), extent = [0, M, N, 0], cmap = 'gray')\n",
    "plt.subplot(1,2,2)\n",
    "plt.imshow(np.real(pyra[:,:,P*Q+1,1]), extent = [0, M, N, 0], cmap = 'gray')\n",
    "print(np.real(np.sum(pyra[:,:,P*Q+1,1])))"
   ]
  },
  {
   "cell_type": "code",
   "execution_count": null,
   "metadata": {},
   "outputs": [],
   "source": [
    "# High pass ReLU coefficients\n",
    "\n",
    "plt.subplot(1,2,1)\n",
    "plt.imshow(np.real(pyra[:,:,0,0]), extent = [0, M, N, 0], cmap = 'gray')\n",
    "plt.subplot(1,2,2)\n",
    "plt.imshow(np.real(pyra[:,:,0,1]), extent = [0, M, N, 0], cmap = 'gray')\n",
    "print(np.real(np.sum(pyra[:,:,1,1])))"
   ]
  },
  {
   "cell_type": "code",
   "execution_count": null,
   "metadata": {},
   "outputs": [],
   "source": [
    "# Check that corresponding coefficient maps, that is epsilon = +1, -1, do not overlap\n",
    "\n",
    "plt.imshow(np.real(pyra[:,:,1,0] * pyra[:,:,1,1]), extent = [0, M, N, 0], cmap = 'gray')\n",
    "plt.colorbar();"
   ]
  },
  {
   "cell_type": "markdown",
   "metadata": {},
   "source": [
    "# Inverse"
   ]
  },
  {
   "cell_type": "code",
   "execution_count": null,
   "metadata": {},
   "outputs": [],
   "source": [
    "def new_pyramid_inv(P, Q, pyramid, H_mat, L_mat, B_mat):\n",
    "    \n",
    "    # Initialize the image\n",
    "    M,N = np.shape(H_mat)[0:2]\n",
    "    img = np.zeros((M,N))\n",
    "    \n",
    "    # Add in the high frequency residual coefficients\n",
    "    img = img + np.fft.ifft2(np.fft.fft2(pyramid[:,:,0,0]-pyramid[:,:,0,1])* np.fft.fftshift(H_mat[:,:,0]))\n",
    "\n",
    "    # Add in the low frequency coefficients\n",
    "    img = img + np.fft.ifft2(np.fft.fft2(pyramid[:,:,P*Q+1,0] - pyramid[:,:,P*Q+1,1]) * np.fft.fftshift(L_mat[:,:,P]))\n",
    "    \n",
    "    # Add in the directional wavelet coefficients\n",
    "    count = 1\n",
    "    for j in range(P):\n",
    "        for q in range(Q):\n",
    "            u = pyramid[:,:,count,0] - pyramid[:,:,count,1]\n",
    "            u = np.fft.fft2(u) * np.fft.fftshift(L_mat[:,:,j])\n",
    "            img = img + np.fft.ifft2(u * (B_mat[:,:,j+1,q]))\n",
    "            count += 1\n",
    "    \n",
    "    return img"
   ]
  },
  {
   "cell_type": "code",
   "execution_count": null,
   "metadata": {},
   "outputs": [],
   "source": [
    "inv = new_pyramid_inv(P, Q, pyra, H_mat, L_mat, B_mat)\n",
    "plt.imshow(np.real(inv), cmap = 'gray')"
   ]
  },
  {
   "cell_type": "markdown",
   "metadata": {},
   "source": [
    "# Histogram Match"
   ]
  },
  {
   "cell_type": "code",
   "execution_count": null,
   "metadata": {},
   "outputs": [],
   "source": [
    "def hist_match(u, v): #u and v are images of the same size\n",
    "    v_ravel = v.ravel()\n",
    "    u_ravel = u.ravel()\n",
    "\n",
    "    v_sorted = np.sort(v_ravel) # sort in ascending order\n",
    "    # u_sorted = np.sort(u_ravel)\n",
    "\n",
    "    tau = np.argsort(v_ravel)\n",
    "    sigma = np.argsort(u_ravel)\n",
    "\n",
    "    u_new_vec = np.zeros(v_ravel.shape[0]) #new vector after matching\n",
    "    for i in range(v_ravel.shape[0]):\n",
    "#         u_new_vec[tau[i]] = v_ravel[sigma[i]] #replace like in paper\n",
    "        u_new_vec[sigma[i]] = v_ravel[tau[i]] #replace like in paper\n",
    "\n",
    "    u_new = np.reshape(u_new_vec, (u.shape[0], u.shape[1]), order = 'C') \n",
    "    return u_new"
   ]
  },
  {
   "cell_type": "markdown",
   "metadata": {},
   "source": [
    "# White Noise"
   ]
  },
  {
   "cell_type": "code",
   "execution_count": null,
   "metadata": {},
   "outputs": [],
   "source": [
    "def gen_white_noise(img):\n",
    "    noise = np.zeros((img.shape[0], img.shape[1]), dtype = 'float')\n",
    "    for n in range(img.shape[0]):\n",
    "        for m in range(img.shape[1]):\n",
    "            noise[n][m] = np.random.normal(0, 0.5)\n",
    "    return noise"
   ]
  },
  {
   "cell_type": "markdown",
   "metadata": {},
   "source": [
    "# Heeger Bergen + Test Case"
   ]
  },
  {
   "cell_type": "code",
   "execution_count": null,
   "metadata": {},
   "outputs": [],
   "source": [
    "def heeger_bergen(img, P, Q, iterations, H_mat, L_mat, B_mat):\n",
    "    \n",
    "    # Get the dimensions of the image\n",
    "    M,N = np.shape(img)\n",
    "    \n",
    "    # Generate the filters\n",
    "#     H_mat = H_mat_struct(M,N,P)\n",
    "#     L_mat = L_mat_struct(M,N,P+1)\n",
    "#     B_mat = B_mat_struct(M,N,P+1,Q)\n",
    "    \n",
    "    # Store each noise iteration\n",
    "    noise = np.zeros((M,N,iterations+1))\n",
    "    \n",
    "    # Synthesis algorithm\n",
    "    img_pyra = new_pyramid(P, Q, img, H_mat, L_mat, B_mat)\n",
    "    img_pyra = np.real(img_pyra)\n",
    "    noise[:,:,0] = gen_white_noise(img)\n",
    "    noise[:,:,0] = hist_match(noise[:,:,0], img)\n",
    "    for n in range(iterations):\n",
    "        noise_pyra = new_pyramid(P, Q, noise[:,:,n], H_mat, L_mat, B_mat)\n",
    "        for k in range(2):\n",
    "            for j in range(P*Q+2):\n",
    "                noise_pyra[:,:,j,k] = hist_match(np.real(noise_pyra[:,:,j,k]), img_pyra[:,:,j,k])\n",
    "            noise[:,:,n+1] = np.real(new_pyramid_inv(P, Q, noise_pyra, H_mat, L_mat, B_mat))\n",
    "            noise[:,:,n+1] = hist_match(noise[:,:,n+1], img)  \n",
    "    return noise"
   ]
  },
  {
   "cell_type": "code",
   "execution_count": null,
   "metadata": {},
   "outputs": [],
   "source": [
    "num_iter = 5\n",
    "texture = heeger_bergen(img, P, Q, num_iter, H_mat, L_mat, B_mat)\n",
    "plt.imshow(np.real(texture[:,:,num_iter]), cmap = 'gray')\n",
    "#plt.imshow(np.real(texture - img))\n",
    "plt.colorbar()"
   ]
  },
  {
   "cell_type": "code",
   "execution_count": null,
   "metadata": {},
   "outputs": [],
   "source": [
    "# Display and compare\n",
    "\n",
    "for n in range(num_iter + 1):\n",
    "    \n",
    "    plt.figure(figsize = (18,5))\n",
    "    \n",
    "    plt.subplot(1,3,1)\n",
    "    plt.imshow(img, cmap = 'gray')\n",
    "    plt.colorbar()\n",
    "    plt.title('Original image')\n",
    "\n",
    "    plt.subplot(1,3,2)\n",
    "    plt.imshow(texture[:,:,n], cmap = 'gray')\n",
    "    plt.colorbar()\n",
    "    plt.title('Synthesized texture')\n",
    "\n",
    "    plt.subplot(1,3,3)\n",
    "    plt.imshow(np.abs(img - texture[:,:,n]), cmap = 'gray')\n",
    "    plt.colorbar()\n",
    "    plt.title('Difference of images')"
   ]
  },
  {
   "cell_type": "code",
   "execution_count": null,
   "metadata": {},
   "outputs": [],
   "source": []
  }
 ],
 "metadata": {
  "kernelspec": {
   "display_name": "Python 3",
   "language": "python",
   "name": "python3"
  },
  "language_info": {
   "codemirror_mode": {
    "name": "ipython",
    "version": 3
   },
   "file_extension": ".py",
   "mimetype": "text/x-python",
   "name": "python",
   "nbconvert_exporter": "python",
   "pygments_lexer": "ipython3",
   "version": "3.8.5"
  }
 },
 "nbformat": 4,
 "nbformat_minor": 4
}
