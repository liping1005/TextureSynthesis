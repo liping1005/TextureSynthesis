{
 "cells": [
  {
   "cell_type": "markdown",
   "metadata": {
    "id": "9_r0KXdR8LDx"
   },
   "source": [
    "This is my implementation of Heeger Bergen texture synthesis algorithm with downsampling and upsampling. It is based on paper given http://www.ipol.im/pub/art/2014/79/article_lr.pdf."
   ]
  },
  {
   "cell_type": "markdown",
   "metadata": {},
   "source": [
    "# Load Libraries"
   ]
  },
  {
   "cell_type": "code",
   "execution_count": null,
   "metadata": {},
   "outputs": [],
   "source": [
    "import numpy as np\n",
    "import math\n",
    "import matplotlib.pyplot as plt\n",
    "import matplotlib.image as imgplt\n",
    "import matplotlib.image as mpimg"
   ]
  },
  {
   "cell_type": "markdown",
   "metadata": {},
   "source": [
    "# Make Filters"
   ]
  },
  {
   "cell_type": "code",
   "execution_count": null,
   "metadata": {
    "id": "JUp-AkyEaTDO"
   },
   "outputs": [],
   "source": [
    "def L(r):\n",
    "    if (r <= np.pi/4):\n",
    "        return 1\n",
    "    elif (r <= np.pi/2):\n",
    "        return np.cos(np.pi/2 * np.log2(4*r/np.pi))\n",
    "    else:\n",
    "        return 0\n",
    "\n",
    "def H(r):\n",
    "    if (r <= np.pi/4):\n",
    "        return 0\n",
    "    elif (r <= np.pi/2):\n",
    "        return np.cos(np.pi/2 * np.log2(2*r/np.pi))\n",
    "    else:\n",
    "        return 1\n",
    "\n",
    "def alpha(Q):\n",
    "    return 2**(Q-1) * math.factorial(Q-1) / np.sqrt(Q * math.factorial(2*Q-2))\n",
    "\n",
    "def G(q,Q,theta): \n",
    "    r1 = theta - np.pi * q/Q\n",
    "    if (r1 < -np.pi):\n",
    "        r1 = r1 + 2*np.pi\n",
    "    region1 = np.abs(r1)\n",
    "    r2 = theta - np.pi * (q-Q)/Q\n",
    "    if (r2 > np.pi):\n",
    "        r2 = r2 - 2*np.pi\n",
    "    region2 = np.abs(r2)\n",
    "    if (region1 <= np.pi/2 and region2 <= np.pi/2):\n",
    "        return alpha(Q) * np.cos(r1)**(Q-1) + np.cos(r2)**(Q-1)\n",
    "    elif (region1 <= np.pi/2 and region2 >= np.pi/2):\n",
    "        return alpha(Q) * np.cos(r1)**(Q-1)\n",
    "    elif (region1 >= np.pi/2 and region2 <= np.pi/2):\n",
    "        return alpha(Q) * np.cos(r2)**(Q-1)\n",
    "    else:\n",
    "        return 0\n",
    "\n",
    "def B(q,Q,r,theta):\n",
    "    return H(r)*G(q,Q,theta)\n",
    "\n",
    "def calc_r(x,y, theta = 'yes'):\n",
    "    if(theta == 'no'):\n",
    "        if(y == 0 and x <= 0):\n",
    "            r = np.abs(x)\n",
    "        else:\n",
    "            r = np.sqrt(x**2 + y**2)\n",
    "        return r\n",
    "    else:\n",
    "        if(y == 0 and x <= 0):\n",
    "            r = np.abs(x)\n",
    "            theta = np.pi\n",
    "        else:\n",
    "            r = np.sqrt(x**2 + y**2)\n",
    "            theta = 2*np.arctan(y/(x+r))\n",
    "        return r, theta"
   ]
  },
  {
   "cell_type": "code",
   "execution_count": null,
   "metadata": {
    "id": "jGQvAVQefyNa"
   },
   "outputs": [],
   "source": [
    "def gen_H0mat(M,N):\n",
    "    H0mat = np.zeros((M,N), dtype = 'float')\n",
    "    for m in range(-int(M/2), int(M/2)):\n",
    "        for n in range(-int(N/2), int(N/2)):\n",
    "            x = 2*m*np.pi/M\n",
    "            y = 2*n*np.pi/N\n",
    "            r = calc_r(x, y, theta = 'no')\n",
    "            H0mat[m,n] = H(r/2)\n",
    "    H0mat = np.fft.fftshift(H0mat)\n",
    "    return H0mat\n",
    "\n",
    "def gen_L0mat(M,N):\n",
    "    L0mat = np.zeros((M,N), dtype = 'float')\n",
    "    for m in range(-int(M/2), int(M/2)):\n",
    "        for n in range(-int(N/2), int(N/2)):\n",
    "            x = 2*m*np.pi/M\n",
    "            y = 2*n*np.pi/N\n",
    "            r = calc_r(x, y, theta = 'no')\n",
    "            L0mat[m,n] = L(r/2)\n",
    "    L0mat = np.fft.fftshift(L0mat)\n",
    "    return L0mat\n",
    "\n",
    "def gen_Lmat(M,N,P):\n",
    "    Lmat = []\n",
    "    for p in range(0,P):\n",
    "        matrix = np.zeros((M, N), dtype = 'float')\n",
    "        for m in range(-int(M/2), int(M/2)):\n",
    "            for n in range(-int(N/2), int(N/2)):\n",
    "                x = 2*m*np.pi/M\n",
    "                y = 2*n*np.pi/N\n",
    "                r = calc_r(x, y, theta = 'no')\n",
    "                matrix[m,n] = L(r)\n",
    "        #print(matrix) \n",
    "        Lmat.append(np.fft.fftshift(matrix))\n",
    "        M = int(M/2)\n",
    "        N = int(N/2)\n",
    "    return Lmat\n",
    "\n",
    "def gen_Hmat(M,N,P):\n",
    "    Hmat = []\n",
    "    for p in range(0,P):\n",
    "        matrix = np.zeros((M, N), dtype = 'float')\n",
    "        for m in range(-int(M/2), int(M/2)):\n",
    "            for n in range(-int(N/2), int(N/2)):\n",
    "                x = 2*m*np.pi/M\n",
    "                y = 2*n*np.pi/N\n",
    "                r = calc_r(x, y, theta = 'no')\n",
    "                matrix[m,n] = H(r)\n",
    "        #print(matrix) \n",
    "        Hmat.append(np.fft.fftshift(matrix))\n",
    "        M = int(M/2)\n",
    "        N = int(N/2)\n",
    "    return Hmat\n",
    "\n",
    "\n",
    "def gen_Bmat(M,N,P,Q):\n",
    "    Bmat = []\n",
    "    for p in range(P):\n",
    "        for q in range(Q):\n",
    "            matrix = np.zeros((M, N), dtype = 'float')\n",
    "            for m in range(-int(M/2), int(M/2)):\n",
    "                for n in range(-int(N/2), int(N/2)):\n",
    "                    x = 2*m*np.pi/M\n",
    "                    y = 2*n*np.pi/N\n",
    "                    r, theta = calc_r(x, y, theta = 'yes')\n",
    "                    matrix[m,n] = B(q,Q,r,theta)\n",
    "            Bmat.append(np.fft.fftshift(matrix))\n",
    "        M = int(M/2)\n",
    "        N = int(N/2)\n",
    "    return Bmat"
   ]
  },
  {
   "cell_type": "markdown",
   "metadata": {},
   "source": [
    "# Test Filters"
   ]
  },
  {
   "cell_type": "code",
   "execution_count": null,
   "metadata": {
    "colab": {
     "base_uri": "https://localhost:8080/",
     "height": 476
    },
    "id": "hQrC73m80Dmn",
    "outputId": "bbc36ae6-5df9-4e8e-d3b9-0d8d64bb8738"
   },
   "outputs": [],
   "source": [
    "P = 4\n",
    "Q = 4\n",
    "H_set = gen_Hmat(256, 256, P)\n",
    "L_set = gen_Lmat(256, 256, P)\n",
    "plt.figure(figsize = (2*P,2*P))\n",
    "c = 1\n",
    "for j in range(P):\n",
    "    plt.subplot(2,2,c)\n",
    "    plt.imshow(H_set[j], extent = [-np.pi, np.pi, -np.pi, np.pi])\n",
    "    plt.colorbar()\n",
    "    c = c+1"
   ]
  },
  {
   "cell_type": "code",
   "execution_count": null,
   "metadata": {
    "colab": {
     "base_uri": "https://localhost:8080/",
     "height": 476
    },
    "id": "wC-M8E_30aDg",
    "outputId": "6b211c37-01af-42b9-a44d-627f63afadea"
   },
   "outputs": [],
   "source": [
    "c = 1\n",
    "plt.figure(figsize = (2*P,2*P))\n",
    "for j in range(P):\n",
    "    plt.subplot(2,2,c)\n",
    "    plt.imshow(L_set[j], extent = [-np.pi, np.pi, -np.pi, np.pi])\n",
    "    plt.colorbar()\n",
    "    c = c+1"
   ]
  },
  {
   "cell_type": "markdown",
   "metadata": {
    "id": "8ZKBKqz9wRL9"
   },
   "source": [
    "Now, it's time to check if the filter actually works. We'll check the condition that $$H(r)^2 +L(r)^2 = 1.$$"
   ]
  },
  {
   "cell_type": "code",
   "execution_count": null,
   "metadata": {
    "colab": {
     "base_uri": "https://localhost:8080/"
    },
    "id": "YswqtuxtwdkP",
    "outputId": "3da1ee35-95a0-4c78-8b91-379e1705c4c3"
   },
   "outputs": [],
   "source": [
    "P = 4\n",
    "Q = 4\n",
    "plt.figure(figsize = (2*P,2*P))\n",
    "c = 1\n",
    "for j in range(P):\n",
    "    plt.subplot(2,2,c)\n",
    "    plt.imshow(np.abs(H_set[j])**2 + np.abs(L_set[j])**2, extent = [-np.pi, np.pi, -np.pi, np.pi])\n",
    "    plt.colorbar()\n",
    "    c = c+1"
   ]
  },
  {
   "cell_type": "markdown",
   "metadata": {},
   "source": [
    "Now let's check if $L_0(r)^2 + H_0(r)^2 = 1$"
   ]
  },
  {
   "cell_type": "code",
   "execution_count": null,
   "metadata": {},
   "outputs": [],
   "source": [
    "H0 = gen_H0mat(256, 256)\n",
    "L0 = gen_L0mat(256, 256)\n",
    "plt.figure(figsize = (15,4))\n",
    "plt.subplot(1,3,1)\n",
    "plt.imshow(H0, extent = [-np.pi, np.pi, -np.pi, np.pi])\n",
    "plt.colorbar()\n",
    "plt.subplot(1,3,2)\n",
    "plt.imshow(L0, extent = [-np.pi, np.pi, -np.pi, np.pi])\n",
    "plt.colorbar()\n",
    "plt.subplot(1,3,3)\n",
    "plt.imshow(H0**2 + L0**2, extent = [-np.pi, np.pi, -np.pi, np.pi])\n",
    "plt.colorbar();"
   ]
  },
  {
   "cell_type": "markdown",
   "metadata": {},
   "source": [
    "# Plot"
   ]
  },
  {
   "cell_type": "code",
   "execution_count": null,
   "metadata": {
    "colab": {
     "base_uri": "https://localhost:8080/",
     "height": 630
    },
    "id": "gMVCYWF_wG7X",
    "outputId": "6830eb16-9664-4581-fa7f-3c1fab35ad21"
   },
   "outputs": [],
   "source": [
    "P = 4\n",
    "Q = 4\n",
    "filters = gen_Bmat(256,256,P,Q)\n",
    "\n",
    "plt.figure(figsize = (4*P,4*P))\n",
    "c = 1\n",
    "for j in range(P):\n",
    "    for q in range(Q):\n",
    "        plt.subplot(P, Q, c)\n",
    "        plt.imshow(np.real(filters[4*j + q]), extent = [-np.pi, np.pi, -np.pi, np.pi])\n",
    "        plt.colorbar()\n",
    "        plt.title('j = ' + str(j) + ' q = ' + str(q))\n",
    "        c = c + 1"
   ]
  },
  {
   "cell_type": "markdown",
   "metadata": {},
   "source": [
    "# Downsample"
   ]
  },
  {
   "cell_type": "code",
   "execution_count": null,
   "metadata": {
    "id": "tHJjcC94f-wn"
   },
   "outputs": [],
   "source": [
    "def downsample(img):\n",
    "    M = img.shape[0]\n",
    "    N = img.shape[1]\n",
    "    img_downsample = np.zeros((int(M/2), int(N/2)), dtype = 'float')\n",
    "    for m in range(int(M/2)):\n",
    "        for n in range(int(N/2)):\n",
    "            img_downsample[m,n] = img[2*m, 2*n]\n",
    "    return img_downsample\n",
    "\n",
    "def zero_pad(img):\n",
    "    M = img.shape[0]\n",
    "    N = img.shape[1]\n",
    "    new_img = np.pad(img, ((int(M/2),int(M/2)),(int(N/2),int(N/2))), 'constant')\n",
    "    return new_img"
   ]
  },
  {
   "cell_type": "markdown",
   "metadata": {},
   "source": [
    "# Load Image"
   ]
  },
  {
   "cell_type": "code",
   "execution_count": null,
   "metadata": {
    "colab": {
     "base_uri": "https://localhost:8080/",
     "height": 339
    },
    "id": "vJWR8zcWUsKx",
    "outputId": "3a06794e-4017-40fb-f035-164a744d2886"
   },
   "outputs": [],
   "source": [
    "# from google.colab import drive\n",
    "# drive.mount('/content/drive')\n",
    "# img_orig = imgplt.imread('/content/drive/My Drive/download.jpg')\n",
    "# print(img_orig.shape)\n",
    "# img_orig = mpimg.imread('butterfly.jpg')\n",
    "img_orig = mpimg.imread('D4.gif')\n",
    "img = img_orig[:512, :512] / 255\n",
    "plt.imshow(img, cmap = 'gray')\n",
    "plt.colorbar()"
   ]
  },
  {
   "cell_type": "markdown",
   "metadata": {},
   "source": [
    "# Constructing Pyramid Algorithm"
   ]
  },
  {
   "cell_type": "code",
   "execution_count": null,
   "metadata": {
    "id": "obGsz1S26qe3"
   },
   "outputs": [],
   "source": [
    "def steerable_pyramid(img, num_scales, num_orientations, H0, L0, L_matrix, H_matrix, B_matrix):\n",
    "    \n",
    "    # Initialize\n",
    "    count = 0\n",
    "    pyramid = [] #empty list, will append\n",
    "    \n",
    "    # Compute the FFT of the image\n",
    "    img_fft = np.fft.fft2(img)\n",
    "    \n",
    "    # High frequency residual coefficients\n",
    "    u = np.fft.fftshift(H0) * img_fft\n",
    "    u = np.fft.ifft2(u)\n",
    "    u = np.real(u)\n",
    "    pyramid.append(u)\n",
    "    \n",
    "    # Low frequency coefficients\n",
    "    v = np.fft.fftshift(L0) * img_fft\n",
    "    \n",
    "    # Bandpass coefficients\n",
    "    for p in range(num_scales):\n",
    "        for q in range(num_orientations):\n",
    "            out = np.fft.fftshift(B_matrix[count]) * v\n",
    "            out = np.fft.ifft2(out)\n",
    "            out = np.real(out)\n",
    "            pyramid.append(out) \n",
    "            count = count + 1\n",
    "        \n",
    "        v = L_matrix[p] * np.fft.fftshift(v)\n",
    "        M,N = v.shape\n",
    "        v = v[int(M/4):int(3*M/4), int(N/4):int(3*N/4)]\n",
    "        v = np.fft.fftshift(v) / 4\n",
    "        \n",
    "#         v = np.fft.fftshift(L_matrix[p]) * v\n",
    "#         v = np.fft.ifft2(v)\n",
    "#         v = np.real(v)\n",
    "#         v = downsample(v)\n",
    "#         if p < (num_scales-1):\n",
    "#             v = np.fft.fft2(v)\n",
    "    \n",
    "    pyramid.append(np.fft.ifft2(v))\n",
    "    return pyramid"
   ]
  },
  {
   "cell_type": "code",
   "execution_count": null,
   "metadata": {
    "id": "vDAJ772hVhzb"
   },
   "outputs": [],
   "source": [
    "P = 4\n",
    "Q = 4\n",
    "M,N = img.shape\n",
    "L0mat = gen_L0mat(M,N)\n",
    "H0mat = gen_H0mat(M,N)\n",
    "Lmat = gen_Lmat(M,N,P)\n",
    "Hmat = gen_Hmat(M,N,P)\n",
    "Bmat = gen_Bmat(M,N,P,Q)\n",
    "pyra = steerable_pyramid(img, P, Q, H0mat, L0mat, Lmat, Hmat, Bmat)"
   ]
  },
  {
   "cell_type": "markdown",
   "metadata": {},
   "source": [
    "# Example Pyramid"
   ]
  },
  {
   "cell_type": "code",
   "execution_count": null,
   "metadata": {
    "colab": {
     "base_uri": "https://localhost:8080/",
     "height": 615
    },
    "id": "8fiLLPYDezjE",
    "outputId": "9ffbe677-f9c1-41b3-b82c-6cb194fb7db0"
   },
   "outputs": [],
   "source": [
    "plt.figure()\n",
    "plt.figure(figsize = (4*P, 4*Q))\n",
    "count = 1\n",
    "for j in range(P):\n",
    "    for q in range(Q):\n",
    "        plt.subplot(P, Q, count)\n",
    "        plt.imshow(np.real(pyra[count]), cmap = 'gray')\n",
    "        plt.colorbar()\n",
    "        plt.title('j = ' + str(j) + ' q = ' + str(q))\n",
    "        count = count + 1"
   ]
  },
  {
   "cell_type": "code",
   "execution_count": null,
   "metadata": {
    "colab": {
     "base_uri": "https://localhost:8080/",
     "height": 344
    },
    "id": "ru0LdhhnCQ6u",
    "outputId": "220b72a7-7eda-4276-9352-9582a559b0ca"
   },
   "outputs": [],
   "source": [
    "plt.figure()\n",
    "plt.figure(figsize = (12, 8))\n",
    "plt.subplot(2, 2, 1)\n",
    "plt.imshow(np.real(pyra[0]), cmap = 'gray')\n",
    "plt.colorbar()\n",
    "plt.subplot(2, 2, 2)\n",
    "plt.imshow(np.real(pyra[P*Q+1]), cmap = 'gray')\n",
    "plt.colorbar()\n"
   ]
  },
  {
   "cell_type": "markdown",
   "metadata": {},
   "source": [
    "# Pyramid Inverse Algorithm"
   ]
  },
  {
   "cell_type": "code",
   "execution_count": null,
   "metadata": {
    "id": "X_94EwsHAQ_S"
   },
   "outputs": [],
   "source": [
    "def pyramid_reconstruct(pyramid, num_scales, num_orientations, L0, H0, Lmat, Hmat, Bmat):\n",
    "    \n",
    "    count = num_scales * num_orientations + 1\n",
    "    u = pyramid[count]\n",
    "    count = count-1\n",
    "    for p in range(num_scales,0,-1):\n",
    "        # u = upsample(u)\n",
    "        uk = np.fft.fftshift(np.fft.fft2(u))\n",
    "        uk = zero_pad(uk)\n",
    "        uk = uk * Lmat[p-1]\n",
    "        u = 4 * np.fft.ifft2(np.fft.fftshift(uk))\n",
    "#         u = np.real(u)\n",
    "        for q in range(num_orientations,0,-1):\n",
    "            conv = np.fft.fftshift(Bmat[count-1]) * np.fft.fft2(pyramid[count])\n",
    "            conv = np.fft.ifft2(conv)\n",
    "#             conv = np.real(conv)\n",
    "            u += conv\n",
    "            count = count-1\n",
    "    u = np.fft.fft2(u) * np.fft.fftshift(L0)\n",
    "    u = np.fft.ifft2(u)\n",
    "#     u = np.real(u)\n",
    "    high = np.fft.fftshift(H0) * np.fft.fft2(pyramid[count])\n",
    "    high = np.fft.ifft2(high)\n",
    "#     high = np.real(high)\n",
    "    u += high\n",
    "    u = np.real(u)\n",
    "    return u"
   ]
  },
  {
   "cell_type": "code",
   "execution_count": null,
   "metadata": {
    "colab": {
     "base_uri": "https://localhost:8080/",
     "height": 285
    },
    "id": "Z_xhVIkTFaZK",
    "outputId": "108a0b48-4a74-4710-d3f6-0f648c585159"
   },
   "outputs": [],
   "source": [
    "out = pyramid_reconstruct(pyra, P, Q, L0mat, H0mat, Lmat, Hmat, Bmat)\n",
    "plt.imshow(out, cmap = 'gray')\n",
    "plt.colorbar()\n",
    "for i in range(P,0,-1):\n",
    "    print(i)\n",
    "print(np.mean(out))"
   ]
  },
  {
   "cell_type": "markdown",
   "metadata": {},
   "source": [
    "# Histogram Matching"
   ]
  },
  {
   "cell_type": "code",
   "execution_count": null,
   "metadata": {},
   "outputs": [],
   "source": [
    "def hist_match(u, v): #u and v are images of the same size\n",
    "    v_ravel = v.ravel()\n",
    "    u_ravel = u.ravel()\n",
    "\n",
    "    v_sorted = np.sort(v_ravel) # sort in ascending order\n",
    "    # u_sorted = np.sort(u_ravel)\n",
    "\n",
    "    tau = np.argsort(v_ravel)\n",
    "    sigma = np.argsort(u_ravel)\n",
    "\n",
    "    u_new_vec = np.zeros(v_ravel.shape[0]) #new vector after matching\n",
    "    for i in range(v_ravel.shape[0]):\n",
    "#         u_new_vec[tau[i]] = v_ravel[sigma[i]] #replace like in paper\n",
    "        u_new_vec[sigma[i]] = v_ravel[tau[i]] #replace like in paper\n",
    "\n",
    "    u_new = np.reshape(u_new_vec, (u.shape[0], u.shape[1]), order = 'C') \n",
    "    return u_new"
   ]
  },
  {
   "cell_type": "markdown",
   "metadata": {},
   "source": [
    "# Make White Noise"
   ]
  },
  {
   "cell_type": "code",
   "execution_count": null,
   "metadata": {},
   "outputs": [],
   "source": [
    "def gen_white_noise(img):\n",
    "    noise = np.zeros((img.shape[0], img.shape[1]), dtype = 'float')\n",
    "    for n in range(img.shape[0]):\n",
    "        for m in range(img.shape[1]):\n",
    "            noise[n][m] = np.random.normal(0, 0.5)\n",
    "    return noise"
   ]
  },
  {
   "cell_type": "markdown",
   "metadata": {},
   "source": [
    "# Full Algorithm"
   ]
  },
  {
   "cell_type": "code",
   "execution_count": null,
   "metadata": {},
   "outputs": [],
   "source": [
    "def heeger_bergen(img, P, Q, iterations, L0, H0, Lmat, Hmat, Bmat):\n",
    "    \n",
    "    # Get the dimensions of the image\n",
    "    M,N = np.shape(img)\n",
    "    \n",
    "    # Generate the filters\n",
    "#     H_mat = H_mat_struct(M,N,P)\n",
    "#     L_mat = L_mat_struct(M,N,P+1)\n",
    "#     B_mat = B_mat_struct(M,N,P+1,Q)\n",
    "\n",
    "    # Store each synthesis iteration\n",
    "    v = np.zeros((M,N,iterations+1))\n",
    "    \n",
    "    # Synthesis algorithm\n",
    "    img_pyra = steerable_pyramid(img, P, Q, H0, L0, Lmat, Hmat, Bmat)\n",
    "    v[:,:,0] = gen_white_noise(img)\n",
    "    v[:,:,0] = hist_match(v[:,:,0], img)\n",
    "    for n in range(iterations):\n",
    "        noise_pyra = steerable_pyramid(v[:,:,n], P, Q, H0, L0, Lmat, Hmat, Bmat)\n",
    "        for j in range(P*Q+2):\n",
    "            noise_pyra[j] = hist_match(np.real(noise_pyra[j]), np.real(img_pyra[j]))\n",
    "        v[:,:,n+1] = pyramid_reconstruct(noise_pyra, P, Q, L0, H0, Lmat, Hmat, Bmat)\n",
    "        v[:,:,n+1] = hist_match(v[:,:,n+1], img)  \n",
    "    return v"
   ]
  },
  {
   "cell_type": "code",
   "execution_count": null,
   "metadata": {},
   "outputs": [],
   "source": [
    "num_iter = 5\n",
    "out = heeger_bergen(img, P, Q, num_iter, L0mat, H0mat, Lmat, Hmat, Bmat)\n",
    "plt.imshow(np.real(out[:,:,5]), cmap = 'gray')\n",
    "plt.colorbar()"
   ]
  },
  {
   "cell_type": "code",
   "execution_count": null,
   "metadata": {},
   "outputs": [],
   "source": [
    "# Display and compare\n",
    "\n",
    "for n in range(num_iter + 1):\n",
    "    \n",
    "    plt.figure(figsize = (18,5))\n",
    "    \n",
    "    plt.subplot(1,3,1)\n",
    "    plt.imshow(img, cmap = 'gray')\n",
    "    plt.colorbar()\n",
    "    plt.title('Original image')\n",
    "\n",
    "    plt.subplot(1,3,2)\n",
    "    plt.imshow(out[:,:,n], cmap = 'gray')\n",
    "    plt.colorbar()\n",
    "    plt.title('Synthesized texture')\n",
    "\n",
    "    plt.subplot(1,3,3)\n",
    "    plt.imshow(np.abs(img - out[:,:,n]), cmap = 'gray')\n",
    "    plt.colorbar()\n",
    "    plt.title('Difference of images')"
   ]
  },
  {
   "cell_type": "code",
   "execution_count": null,
   "metadata": {},
   "outputs": [],
   "source": []
  }
 ],
 "metadata": {
  "colab": {
   "collapsed_sections": [],
   "name": "Heeger-Bergen.ipynb",
   "provenance": []
  },
  "kernelspec": {
   "display_name": "Python 3",
   "language": "python",
   "name": "python3"
  },
  "language_info": {
   "codemirror_mode": {
    "name": "ipython",
    "version": 3
   },
   "file_extension": ".py",
   "mimetype": "text/x-python",
   "name": "python",
   "nbconvert_exporter": "python",
   "pygments_lexer": "ipython3",
   "version": "3.8.5"
  }
 },
 "nbformat": 4,
 "nbformat_minor": 1
}
