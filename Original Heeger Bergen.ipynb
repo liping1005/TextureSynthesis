{
 "cells": [
  {
   "cell_type": "markdown",
   "metadata": {},
   "source": [
    "This is my implementation of Heeger Bergen texture synthesis algorithm without downsampling and upsampling. This is less efficient, but this my first attempt at implementation. It is based on paper given http://www.ipol.im/pub/art/2014/79/article_lr.pdf."
   ]
  },
  {
   "cell_type": "markdown",
   "metadata": {
    "colab_type": "text",
    "id": "sFbPFJ9nkPAQ"
   },
   "source": [
    "# Libraries"
   ]
  },
  {
   "cell_type": "code",
   "execution_count": null,
   "metadata": {
    "colab": {},
    "colab_type": "code",
    "id": "z5jF-CuMYYYA"
   },
   "outputs": [],
   "source": [
    "import numpy as np\n",
    "import math\n",
    "import numpy.fft as fft\n",
    "\n",
    "import matplotlib.pyplot as plt\n",
    "import matplotlib.image as mpimg\n",
    "%matplotlib inline"
   ]
  },
  {
   "cell_type": "markdown",
   "metadata": {
    "colab_type": "text",
    "id": "pBkuQb3WkMX_"
   },
   "source": [
    "# Filters"
   ]
  },
  {
   "cell_type": "code",
   "execution_count": null,
   "metadata": {
    "colab": {},
    "colab_type": "code",
    "id": "tW7GsuooZBaJ"
   },
   "outputs": [],
   "source": [
    "def Hj(r, j):\n",
    "    if(r < 0):\n",
    "        r = -r #check input\n",
    "    if(r <= np.pi/(2**(j+1))):\n",
    "        out = 0\n",
    "    elif(r <= np.pi/(2**j)):\n",
    "        out = np.cos((np.pi/2) * np.log2((2**j)*r/np.pi))\n",
    "    else:\n",
    "        out = 1\n",
    "    return out\n",
    "\n",
    "def Lj(r, j):\n",
    "    if(r < 0):\n",
    "        r = -r #check input\n",
    "    if(r <= np.pi/(2**(j+1))):\n",
    "        out = 1\n",
    "    elif(r <= np.pi/(2**j)):\n",
    "        out = np.cos(np.pi/2 * np.log2((2**(j+1))*r/np.pi))\n",
    "    else:\n",
    "        out = 0\n",
    "    return out\n",
    "\n",
    "def alpha(Q):\n",
    "    y = math.factorial(int(2*Q-2))\n",
    "    return 2**(Q-1) * math.factorial(int(Q-1)) / np.sqrt(Q * y)\n",
    "\n",
    "def G(q, Q, theta):\n",
    "    r1 = theta - np.pi * q/Q\n",
    "    if r1 < -np.pi:\n",
    "        r1 = r1 + 2*np.pi\n",
    "    r2 = theta - np.pi * (q-Q)/Q # r2 = theta + np.pi - np.pi * q/Q\n",
    "    if r2 > np.pi:\n",
    "        r2 = r2 - 2*np.pi\n",
    "    x = np.cos(r1)**(Q-1)\n",
    "    y = np.cos(r2)**(Q-1)\n",
    "    if (np.abs(r1) <= np.pi/2 and np.abs(r2) <= np.pi/2):\n",
    "        out = alpha(Q) * (x + y)\n",
    "    elif (np.abs(r1) >= np.pi/2 and np.abs(r2) <= np.pi/2):\n",
    "        out = alpha(Q) * (y)\n",
    "    elif (np.abs(r1) <= np.pi/2 and np.abs(r2) >= np.pi/2):\n",
    "        out = alpha(Q) * (x)\n",
    "    else:\n",
    "        out = 0\n",
    "    return out\n",
    "\n",
    "def B(r, theta,j,q, Q):\n",
    "    return Hj(r,j) * G(q, Q, theta)\n",
    "\n",
    "def Psi(r, theta, j, q, Q):   \n",
    "    low = Lj(r, j)\n",
    "    high = Hj(r, j+1)\n",
    "    angular = G(q, Q, theta)\n",
    "    \n",
    "    return low * high * angular"
   ]
  },
  {
   "cell_type": "code",
   "execution_count": null,
   "metadata": {
    "colab": {},
    "colab_type": "code",
    "id": "xLUCS214kdpG"
   },
   "outputs": [],
   "source": [
    "def r_no_theta(x,y):\n",
    "    if(y == 0 and x <= 0):\n",
    "        r = np.abs(x)\n",
    "    else:\n",
    "        r = np.sqrt(x**2 + y**2)\n",
    "    return r\n",
    "\n",
    "def r_with_theta(x,y):\n",
    "    if(y == 0 and x <= 0):\n",
    "        r = np.abs(x)\n",
    "        theta = np.pi\n",
    "    else:\n",
    "        r = np.sqrt(x**2 + y**2)\n",
    "        theta = 2*np.arctan(y/(x+r))\n",
    "    return r, theta\n",
    "\n",
    "def H_matrix(M,N,j=0): \n",
    "    H_mat = np.zeros((M,N), dtype = 'complex')\n",
    "    r = 0 #input cleanse\n",
    "    for m in range(-int(M/2), int(M/2)):\n",
    "        for n in range(-int(N/2), int(N/2)):\n",
    "            r = r_no_theta(2*np.pi*m/M, 2*np.pi*n/N)\n",
    "            H_mat[m + int(M/2),n + int(N/2)] = Hj(r,j)\n",
    "    return H_mat\n",
    "\n",
    "def L_matrix(M,N,j=0): \n",
    "    L_mat = np.zeros((M,N), dtype = 'complex')\n",
    "    r = 0 #input cleanse\n",
    "    for m in range(-int(M/2), int(M/2)):\n",
    "        for n in range(-int(N/2), int(N/2)):\n",
    "            r = r_no_theta(2*np.pi*m/M,2*np.pi*n/N)\n",
    "            L_mat[m + int(M/2),n + int(N/2)] = Lj(r,j)\n",
    "    return L_mat\n",
    "\n",
    "def B_matrix(M, N, j, q, Q):\n",
    "    r= 0 #input cleans\n",
    "    theta=0\n",
    "    B_mat = np.zeros((M,N), dtype = 'complex')\n",
    "    for m in range(-int(M/2), int(M/2)):\n",
    "        for n in range(-int(N/2), int(N/2)):\n",
    "            r, theta = r_with_theta(2*np.pi*m/M,2*np.pi*n/N)\n",
    "            B_mat[m,n] = B(r, theta, j, q, Q)\n",
    "    return B_mat\n",
    "\n",
    "def psi_matrix(M, N, j, q, Q):\n",
    "    r = 0 #input cleans\n",
    "    theta = 0 #input cleans\n",
    "    psi_mat = np.zeros((M,N), dtype = 'complex')\n",
    "    for m in range(-int(M/2), int(M/2)):\n",
    "        for n in range(-int(N/2), int(N/2)):\n",
    "            r, theta = r_with_theta(2*np.pi*m/M,2*np.pi*n/N)\n",
    "            psi_mat[m + int(M/2),n + int(N/2)] = Psi(r, theta, j, q, Q)\n",
    "    return psi_mat\n"
   ]
  },
  {
   "cell_type": "markdown",
   "metadata": {
    "colab_type": "text",
    "id": "Mw0BT0qyxBEg"
   },
   "source": [
    "# Load Image"
   ]
  },
  {
   "cell_type": "code",
   "execution_count": null,
   "metadata": {
    "colab": {
     "base_uri": "https://localhost:8080/",
     "height": 303
    },
    "colab_type": "code",
    "id": "pVYAOABkwQYS",
    "outputId": "739190c2-e2c6-4517-bf14-187f0f4851b6"
   },
   "outputs": [],
   "source": [
    "# from google.colab import drive\n",
    "# drive.mount('/content/drive')\n",
    "# img_orig = mpimg.imread('/content/drive/My Drive/132148_header.jpg')\n",
    "img_orig = mpimg.imread('D4.gif')\n",
    "img = img_orig[:512, :512]\n",
    "# img = img_orig[:256, :256, 0] / 255\n",
    "plt.imshow(img, cmap = 'gray')\n",
    "plt.colorbar()"
   ]
  },
  {
   "cell_type": "code",
   "execution_count": null,
   "metadata": {
    "colab": {
     "base_uri": "https://localhost:8080/",
     "height": 286
    },
    "colab_type": "code",
    "id": "K3P39Ir2Nnmv",
    "outputId": "7037d6e4-8fd9-43a7-8cac-e6f34a243be4"
   },
   "outputs": [],
   "source": [
    "imgk = np.fft.fft2(img)\n",
    "img2 = np.fft.ifft2(imgk)\n",
    "img2 = np.real(img2)\n",
    "plt.imshow(img2)\n",
    "plt.colorbar()"
   ]
  },
  {
   "cell_type": "markdown",
   "metadata": {
    "colab_type": "text",
    "id": "qDHhE4eMxFUO"
   },
   "source": [
    "# Run"
   ]
  },
  {
   "cell_type": "code",
   "execution_count": null,
   "metadata": {
    "colab": {
     "base_uri": "https://localhost:8080/",
     "height": 809
    },
    "colab_type": "code",
    "id": "gAa9YJ-1Gv2V",
    "outputId": "7dea1457-6092-4248-f6f2-4501c0e0ab68"
   },
   "outputs": [],
   "source": [
    "# Check the filters (in frequency)\n",
    "\n",
    "# Settings\n",
    "P = 4\n",
    "Q = 4\n",
    "\n",
    "# Dimensions\n",
    "M = img.shape[0]\n",
    "N = img.shape[1]\n",
    "\n",
    "# High frequency residual filter\n",
    "Hmat = H_matrix(M,N,j=0)\n",
    "plt.figure()\n",
    "plt.imshow(np.real(Hmat), extent = [-np.pi, np.pi, -np.pi, np.pi])\n",
    "plt.colorbar();\n",
    "plt.title('High frequency residual filter')\n",
    "\n",
    "# Low frequency filter\n",
    "Lmat = L_matrix(M,N,j=P)\n",
    "plt.figure()\n",
    "plt.imshow(np.real(Lmat), extent = [-np.pi, np.pi, -np.pi, np.pi])\n",
    "plt.colorbar();\n",
    "plt.title('Low frequency filter')\n",
    "\n",
    "# Check Littlewood-Paley condition for H0 and L0\n",
    "Lmat0 = L_matrix(M,N,j=0)\n",
    "plt.figure()\n",
    "plt.imshow(np.abs(Hmat)**2 + np.abs(Lmat0)**2, extent = [-np.pi, np.pi, -np.pi, np.pi])\n",
    "plt.colorbar()\n",
    "plt.title('H0 and L0 Littlewood-Paley check')\n",
    "\n",
    "# Directional filters\n",
    "psi = np.zeros((M,N,P,Q), dtype = 'complex')\n",
    "for j in range(P):\n",
    "    for q in range(Q):\n",
    "        psi[:,:,j,q] = psi_matrix(M, N, j, q, Q)"
   ]
  },
  {
   "cell_type": "code",
   "execution_count": null,
   "metadata": {
    "colab": {
     "base_uri": "https://localhost:8080/",
     "height": 823
    },
    "colab_type": "code",
    "id": "9Xht1YdtGv2Y",
    "outputId": "478671d8-d42e-4a55-9cbb-fcb77d1c9345"
   },
   "outputs": [],
   "source": [
    "# Display directional filters\n",
    "\n",
    "plt.figure(figsize = (5*P, 5*Q))\n",
    "c = 1\n",
    "for j in range(P):\n",
    "    for q in range(Q):\n",
    "        plt.subplot(P, Q, c)\n",
    "        plt.imshow(np.real(psi[:,:,j,q]), extent = [-np.pi, np.pi, -np.pi, np.pi])\n",
    "        plt.colorbar()\n",
    "        plt.title('j = ' + str(j) + ' q = ' + str(q))\n",
    "        c = c + 1"
   ]
  },
  {
   "cell_type": "code",
   "execution_count": null,
   "metadata": {
    "colab": {
     "base_uri": "https://localhost:8080/",
     "height": 286
    },
    "colab_type": "code",
    "id": "G0gs4Ye-uPp0",
    "outputId": "d63a0a52-7a6c-4e9a-eafa-2d72eecb8149"
   },
   "outputs": [],
   "source": [
    "# Check the Littlewood-Paley condition for the filter bank\n",
    "\n",
    "# Initialize the Littlewood-Paley sum with all zeros\n",
    "LPsum = np.zeros((M,N))\n",
    "\n",
    "# Add in the high frequency residual filter and the low frequency filter\n",
    "LPsum = LPsum + np.abs(Hmat)**2 + np.abs(Lmat)**2\n",
    "\n",
    "# Add in the directional filters\n",
    "for j in range(P):\n",
    "    for q in range(Q):\n",
    "        LPsum = LPsum + np.abs(psi[:,:,j,q])**2\n",
    "\n",
    "# Display the Littlewood-Paley sum\n",
    "plt.imshow(LPsum)\n",
    "plt.grid(False)\n",
    "plt.colorbar()\n",
    "\n",
    "# Let's also just print it\n",
    "print('M*N =', M*N, 'and the sum of LPsum =', np.sum(LPsum))"
   ]
  },
  {
   "cell_type": "code",
   "execution_count": null,
   "metadata": {
    "colab": {},
    "colab_type": "code",
    "id": "QZH0x-rou6g2"
   },
   "outputs": [],
   "source": [
    "# Seems that in steerable_pyramid_nodownsample you only use H_all_j[:,:,0], so you can probably eliminate \n",
    "# the H_mat_struct function\n",
    "def H_mat_struct(M,N,J):\n",
    "    H_all_j = np.zeros((M,N,J), dtype = 'complex')\n",
    "    for j in range(J):\n",
    "        H_all_j[:,:,j] = H_matrix(M,N,j)\n",
    "    return H_all_j\n",
    "\n",
    "def L_mat_struct(M,N,J):\n",
    "    L_all_j = np.zeros((M,N,J), dtype = 'complex')\n",
    "    for j in range(J):  \n",
    "        L_all_j[:,:,j] = L_matrix(M,N,j)\n",
    "    return L_all_j\n",
    "\n",
    "def B_mat_struct(M,N,J,Q):\n",
    "    B_all_jq = np.zeros((M,N,J,Q), dtype = 'complex')\n",
    "    for j in range(J):\n",
    "        for q in range(Q):\n",
    "            B_all_jq[:,:,j,q] = B_matrix(M, N, j, q, Q)\n",
    "            \n",
    "    return B_all_jq\n"
   ]
  },
  {
   "cell_type": "code",
   "execution_count": null,
   "metadata": {
    "colab": {},
    "colab_type": "code",
    "id": "p3d1rUBEupT8"
   },
   "outputs": [],
   "source": [
    "H_mat = H_mat_struct(M,N,P)\n",
    "L_mat = L_mat_struct(M,N,P+1)\n",
    "B_mat = B_mat_struct(M,N,P+1,Q)"
   ]
  },
  {
   "cell_type": "code",
   "execution_count": null,
   "metadata": {
    "colab": {},
    "colab_type": "code",
    "id": "J_pj3zKOGv2f"
   },
   "outputs": [],
   "source": [
    "def steerable_pyramid_nodownsample(P, Q, img, H_mat, L_mat, B_mat):\n",
    "    \n",
    "    # Get the dimensions the image\n",
    "    M = img.shape[0]\n",
    "    N = img.shape[1]\n",
    "    \n",
    "    #initialize count\n",
    "    count = 0\n",
    "    \n",
    "    # Initialize pyramid\n",
    "    pyramid = np.zeros((M,N,P*Q+2), dtype = 'complex')\n",
    "\n",
    "    #find fft of img to work in frequency\n",
    "    img_fft = np.fft.fft2(img)\n",
    "    \n",
    "    # store high frequency residual\n",
    "    pyramid[:,:,count] = np.fft.ifft2(np.fft.fftshift(H_mat[:,:,0]) * img_fft)\n",
    "    count += 1\n",
    "    for j in range(P):\n",
    "        v = np.fft.fftshift(L_mat[:,:,j]) * img_fft # equivalent of step 5 + 6\n",
    "        for q in range(Q):\n",
    "            pyramid[:,:,count] = np.fft.ifft2(B_mat[:,:,j+1,q] * v) #step 4\n",
    "            count += 1\n",
    "    pyramid[:,:,count] = np.fft.ifft2(np.fft.fftshift(L_mat[:,:,P]) * img_fft)\n",
    "    return pyramid"
   ]
  },
  {
   "cell_type": "code",
   "execution_count": null,
   "metadata": {
    "colab": {},
    "colab_type": "code",
    "id": "DtkwHPTLfXla"
   },
   "outputs": [],
   "source": [
    "pyramid = steerable_pyramid_nodownsample(P,Q,img,H_mat,L_mat,B_mat)"
   ]
  },
  {
   "cell_type": "code",
   "execution_count": null,
   "metadata": {
    "colab": {
     "base_uri": "https://localhost:8080/",
     "height": 820
    },
    "colab_type": "code",
    "id": "s_VtbjgUimx2",
    "outputId": "cbc02854-4e37-469a-b612-e021601c4ed7"
   },
   "outputs": [],
   "source": [
    "# Plot the directional wavelet coefficients\n",
    "\n",
    "plt.figure()\n",
    "plt.figure(figsize = (4*P, 4*Q))\n",
    "count = 1\n",
    "for j in range(P):\n",
    "    for q in range(Q):\n",
    "        plt.subplot(P, Q, count)\n",
    "        plt.imshow(np.abs(pyramid[:,:,count]) , extent = [0, M, N, 0])\n",
    "        plt.colorbar()\n",
    "        plt.title('j = ' + str(j) + ' q = ' + str(q))\n",
    "        count = count + 1\n",
    "plt.savefig('psimatrix.jpg')"
   ]
  },
  {
   "cell_type": "code",
   "execution_count": null,
   "metadata": {
    "colab": {
     "base_uri": "https://localhost:8080/",
     "height": 267
    },
    "colab_type": "code",
    "id": "KJ3e5TlENnnZ",
    "outputId": "a4086738-c751-47f8-902c-eb245f27ae66"
   },
   "outputs": [],
   "source": [
    "# Plot the high pass residual coefficients and the low pass coefficients\n",
    "\n",
    "plt.figure(figsize = (8,4))\n",
    "plt.subplot(1,2,1)\n",
    "plt.imshow(np.abs(pyramid[:,:,0]), extent = [0, M, N, 0])\n",
    "plt.colorbar()\n",
    "plt.title('High pass coefficients')\n",
    "plt.subplot(1,2,2)\n",
    "plt.imshow(np.abs(pyramid[:,:,-1]), extent = [0, M, N, 0])\n",
    "plt.colorbar()\n",
    "plt.title('Low pass coefficients')"
   ]
  },
  {
   "cell_type": "markdown",
   "metadata": {
    "colab_type": "text",
    "id": "XPBcVfoSw4Ss"
   },
   "source": [
    "# Inverse"
   ]
  },
  {
   "cell_type": "code",
   "execution_count": null,
   "metadata": {
    "colab": {},
    "colab_type": "code",
    "id": "r0DWrtfIw6Ih"
   },
   "outputs": [],
   "source": [
    "def steerable_pyramid_inv(P, Q, pyramid, H_mat, L_mat, B_mat):\n",
    "    \n",
    "    # Initialize the image\n",
    "    M,N = np.shape(H_mat)[0:2]\n",
    "    img = np.zeros((M,N))\n",
    "    \n",
    "    # Add in the high frequency residual coefficients\n",
    "    img = img + np.fft.ifft2(np.fft.fft2(pyramid[:,:,0]) * np.fft.fftshift(H_mat[:,:,0]))\n",
    "\n",
    "    # Add in the low frequency coefficients\n",
    "    img = img + np.fft.ifft2(np.fft.fft2(pyramid[:,:,P*Q+1]) * np.fft.fftshift(L_mat[:,:,P]))\n",
    "    \n",
    "    # Add in the directional wavelet coefficients\n",
    "    count = 1\n",
    "    for j in range(P):\n",
    "        for q in range(Q):\n",
    "            u = pyramid[:,:,count]\n",
    "            u = np.fft.fft2(u) * np.fft.fftshift(L_mat[:,:,j])\n",
    "            img = img + np.fft.ifft2(u * B_mat[:,:,j+1,q])\n",
    "            count += 1\n",
    "    \n",
    "    return img"
   ]
  },
  {
   "cell_type": "code",
   "execution_count": null,
   "metadata": {
    "colab": {
     "base_uri": "https://localhost:8080/",
     "height": 286
    },
    "colab_type": "code",
    "id": "ovhiaf4EnT8t",
    "outputId": "6fc6d83b-9908-4835-eb52-3ea5469e7c65"
   },
   "outputs": [],
   "source": [
    "inv_img = np.zeros_like(img)\n",
    "inv_img = steerable_pyramid_inv(P, Q,pyramid, H_mat, L_mat, B_mat)    \n",
    "plt.imshow(np.real(inv_img))\n",
    "plt.colorbar()"
   ]
  },
  {
   "cell_type": "markdown",
   "metadata": {
    "colab_type": "text",
    "id": "2hWagz97mG26"
   },
   "source": [
    "# Histogram"
   ]
  },
  {
   "cell_type": "code",
   "execution_count": null,
   "metadata": {
    "colab": {},
    "colab_type": "code",
    "id": "9L7Q6N0ng3X3"
   },
   "outputs": [],
   "source": [
    "def hist_match(u, v): #u and v are images of the same size\n",
    "    v_ravel = v.ravel()\n",
    "    u_ravel = u.ravel()\n",
    "\n",
    "    v_sorted = np.sort(v_ravel) # sort in ascending order\n",
    "    # u_sorted = np.sort(u_ravel)\n",
    "\n",
    "    tau = np.argsort(v_ravel)\n",
    "    sigma = np.argsort(u_ravel)\n",
    "\n",
    "    u_new_vec = np.zeros(v_ravel.shape[0]) #new vector after matching\n",
    "    for i in range(v_ravel.shape[0]):\n",
    "#         u_new_vec[tau[i]] = v_ravel[sigma[i]] #replace like in paper\n",
    "        u_new_vec[sigma[i]] = v_ravel[tau[i]] #replace like in paper\n",
    "\n",
    "    u_new = np.reshape(u_new_vec, (u.shape[0], u.shape[1]), order = 'C') \n",
    "    return u_new"
   ]
  },
  {
   "cell_type": "code",
   "execution_count": null,
   "metadata": {
    "colab": {},
    "colab_type": "code",
    "id": "5SR3v2aTRHoP"
   },
   "outputs": [],
   "source": [
    "def gen_white_noise(img):\n",
    "    noise = np.zeros((img.shape[0], img.shape[1]), dtype = 'float')\n",
    "    for n in range(img.shape[0]):\n",
    "        for m in range(img.shape[1]):\n",
    "            noise[n][m] = np.random.normal(0, 0.5)\n",
    "    return noise"
   ]
  },
  {
   "cell_type": "code",
   "execution_count": null,
   "metadata": {
    "colab": {
     "base_uri": "https://localhost:8080/",
     "height": 232
    },
    "colab_type": "code",
    "id": "UxSSgoV0OczV",
    "outputId": "5c98410e-2248-4899-8234-5836fffd5717"
   },
   "outputs": [],
   "source": [
    "noise = gen_white_noise(img)\n",
    "\n",
    "new_noise = hist_match(noise, img)\n",
    "plt.figure(figsize = (18,6))\n",
    "\n",
    "plt.subplot(1,5,1)\n",
    "plt.title('Hist Noise')\n",
    "plt.hist(noise.ravel(), bins = 'auto')\n",
    "\n",
    "plt.subplot(1,5,2)\n",
    "plt.hist(img.ravel(), bins = 'auto')\n",
    "plt.title('Hist Reference')\n",
    "\n",
    "plt.subplot(1,5,3)\n",
    "plt.hist(new_noise.ravel(), bins = 'auto')\n",
    "plt.title('Hist matched Noise')\n",
    "\n",
    "plt.subplot(1,5,4)\n",
    "plt.imshow(new_noise)\n",
    "plt.title('new_img')\n",
    "plt.colorbar()\n",
    "\n",
    "plt.subplot(1,5,5)\n",
    "plt.imshow(noise)\n",
    "plt.title('White noise')\n",
    "plt.colorbar()"
   ]
  },
  {
   "cell_type": "markdown",
   "metadata": {
    "colab_type": "text",
    "id": "Evw6pL23SR2m"
   },
   "source": [
    "Based on my results, I think this works properly. I think good way to check is this."
   ]
  },
  {
   "cell_type": "markdown",
   "metadata": {
    "colab_type": "text",
    "id": "u6wXunTASce1"
   },
   "source": [
    "# Heeger-Bergen Algorithm\n"
   ]
  },
  {
   "cell_type": "code",
   "execution_count": null,
   "metadata": {
    "colab": {},
    "colab_type": "code",
    "id": "-Ttw_3qnSF2f"
   },
   "outputs": [],
   "source": [
    "def heeger_bergen(img, P, Q, iterations, H_mat, L_mat, B_mat):\n",
    "    \n",
    "    # Get the dimensions of the image\n",
    "    M,N = np.shape(img)\n",
    "    \n",
    "    # Generate the filters\n",
    "#     H_mat = H_mat_struct(M,N,P)\n",
    "#     L_mat = L_mat_struct(M,N,P+1)\n",
    "#     B_mat = B_mat_struct(M,N,P+1,Q)\n",
    "    \n",
    "    # Store each noise iteration\n",
    "    noise = np.zeros((M,N,iterations+1))\n",
    "    \n",
    "    # Synthesis algorithm\n",
    "    img_pyra = steerable_pyramid_nodownsample(P, Q, img, H_mat, L_mat, B_mat)\n",
    "    noise[:,:,0] = gen_white_noise(img)\n",
    "    noise[:,:,0] = hist_match(noise[:,:,0], img)\n",
    "    for n in range(iterations):\n",
    "        noise_pyra = steerable_pyramid_nodownsample(P, Q, noise[:,:,n], H_mat, L_mat, B_mat)\n",
    "        for j in range(P*Q+2):\n",
    "            noise_pyra[:,:,j] = hist_match(noise_pyra[:,:,j], img_pyra[:,:,j])\n",
    "        noise[:,:,n+1] = steerable_pyramid_inv(P, Q, noise_pyra, H_mat, L_mat, B_mat)\n",
    "        noise[:,:,n+1] = hist_match(noise[:,:,n+1], img)  \n",
    "    return noise"
   ]
  },
  {
   "cell_type": "code",
   "execution_count": null,
   "metadata": {},
   "outputs": [],
   "source": [
    "print('P:', P)\n",
    "print('Q:', Q)\n",
    "H_mat = H_mat_struct(M,N,P)\n",
    "L_mat = L_mat_struct(M,N,P+1)\n",
    "B_mat = B_mat_struct(M,N,P+1,Q)"
   ]
  },
  {
   "cell_type": "code",
   "execution_count": null,
   "metadata": {
    "colab": {},
    "colab_type": "code",
    "id": "n6Y8hQgqXk1t"
   },
   "outputs": [],
   "source": [
    "num_iter = 5\n",
    "texture = heeger_bergen(img, P, Q, num_iter, H_mat, L_mat, B_mat)\n",
    "plt.imshow(np.abs(texture[:,:,num_iter]))\n",
    "#plt.imshow(np.real(texture - img))\n",
    "plt.colorbar()"
   ]
  },
  {
   "cell_type": "code",
   "execution_count": null,
   "metadata": {},
   "outputs": [],
   "source": [
    "# Display and compare\n",
    "\n",
    "for n in range(num_iter + 1):\n",
    "    \n",
    "    plt.figure(figsize = (18,5))\n",
    "    \n",
    "    plt.subplot(1,3,1)\n",
    "    plt.imshow(img, cmap = 'gray')\n",
    "    plt.colorbar()\n",
    "    plt.title('Original image')\n",
    "\n",
    "    plt.subplot(1,3,2)\n",
    "    plt.imshow(texture[:,:,n], cmap = 'gray')\n",
    "    plt.colorbar()\n",
    "    plt.title('Synthesized texture')\n",
    "\n",
    "    plt.subplot(1,3,3)\n",
    "    plt.imshow(np.abs(img - texture[:,:,n]), cmap = 'gray')\n",
    "    plt.colorbar()\n",
    "    plt.title('Difference of images')\n",
    " \n",
    "\n",
    "\n"
   ]
  }
 ],
 "metadata": {
  "colab": {
   "collapsed_sections": [],
   "name": "Steerable_Wavelet_edit_2020-09-11.ipynb",
   "provenance": [],
   "toc_visible": true
  },
  "kernelspec": {
   "display_name": "Python 3",
   "language": "python",
   "name": "python3"
  },
  "language_info": {
   "codemirror_mode": {
    "name": "ipython",
    "version": 3
   },
   "file_extension": ".py",
   "mimetype": "text/x-python",
   "name": "python",
   "nbconvert_exporter": "python",
   "pygments_lexer": "ipython3",
   "version": "3.8.5"
  }
 },
 "nbformat": 4,
 "nbformat_minor": 1
}
