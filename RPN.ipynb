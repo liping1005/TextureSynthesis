{
 "cells": [
  {
   "cell_type": "markdown",
   "metadata": {
    "colab_type": "text",
    "id": "jVcTGpPpliel"
   },
   "source": [
    "# Load Libraries"
   ]
  },
  {
   "cell_type": "code",
   "execution_count": null,
   "metadata": {
    "colab": {
     "base_uri": "https://localhost:8080/",
     "height": 286
    },
    "colab_type": "code",
    "id": "8yt1EVLD2hVx",
    "outputId": "b1783290-fb99-4a3b-e86c-436fe24b55b0"
   },
   "outputs": [],
   "source": [
    "import random\n",
    "import numpy as np\n",
    "import matplotlib.pyplot as plt\n",
    "import matplotlib.image as mpimg\n",
    "from scipy import signal\n",
    "\n",
    "img_orig = mpimg.imread('132148_header.jpg')\n",
    "img = img_orig[:256, :256, 1] / 255\n",
    "plt.imshow(img)"
   ]
  },
  {
   "cell_type": "markdown",
   "metadata": {
    "colab_type": "text",
    "id": "UDZDKGsL4eIP"
   },
   "source": [
    "# Generate Odd White Noise"
   ]
  },
  {
   "cell_type": "code",
   "execution_count": null,
   "metadata": {
    "colab": {},
    "colab_type": "code",
    "id": "XWpBQMY_4YkR"
   },
   "outputs": [],
   "source": [
    "noise = np.zeros((img.shape[0], img.shape[1]), dtype = 'float')\n",
    "for n in range(img.shape[0]):\n",
    "    for m in range(n):\n",
    "        if(n == 0 and m == 0): #make matrix symmetric\n",
    "            noise[n][m] = 0\n",
    "        else:\n",
    "            noise[n][m] = np.random.uniform(low = -np.pi, high = np.pi)\n",
    "            noise[m][n] = noise[n][m]"
   ]
  },
  {
   "cell_type": "markdown",
   "metadata": {
    "colab_type": "text",
    "id": "n7UNLBqolpNX"
   },
   "source": [
    "# Basic RPN"
   ]
  },
  {
   "cell_type": "code",
   "execution_count": null,
   "metadata": {
    "colab": {
     "base_uri": "https://localhost:8080/",
     "height": 286
    },
    "colab_type": "code",
    "id": "nKxRVbzA24b6",
    "outputId": "f419151d-74f4-4625-adcc-8897738615cd"
   },
   "outputs": [],
   "source": [
    "x = img\n",
    "x = np.fft.fft2(x)\n",
    "x = x * np.exp(1j*noise)\n",
    "x = np.fft.ifft2(x)\n",
    "print('Max of the imaginary part of x: ', np.max(np.imag(x)))\n",
    "plt.imshow(np.real(x))"
   ]
  },
  {
   "cell_type": "markdown",
   "metadata": {
    "colab_type": "text",
    "id": "oPCjkiXAnpnr"
   },
   "source": [
    "# Basic RPN w/ Color"
   ]
  },
  {
   "cell_type": "code",
   "execution_count": null,
   "metadata": {
    "colab": {
     "base_uri": "https://localhost:8080/",
     "height": 609
    },
    "colab_type": "code",
    "id": "SzvKF-b-no4t",
    "outputId": "4eedc032-e258-4b8e-dd55-b41d74e96c98"
   },
   "outputs": [],
   "source": [
    "img = img_orig[:256, :256, :] / 255\n",
    "print(img.shape)\n",
    "plt.figure()\n",
    "plt.imshow(img)\n",
    "for n in range(3):\n",
    "    x = img[:,:,n]\n",
    "    x = np.fft.fft2(x)\n",
    "    x = x * np.exp(1j*noise)\n",
    "    img[:,:,n] = np.fft.ifft2(x)\n",
    "plt.figure()\n",
    "plt.imshow(np.real(img))"
   ]
  },
  {
   "cell_type": "markdown",
   "metadata": {
    "colab_type": "text",
    "id": "MNQ2pWQD-M1d"
   },
   "source": [
    "# Fixed RPN (Same Size)\n"
   ]
  },
  {
   "cell_type": "code",
   "execution_count": null,
   "metadata": {
    "colab": {},
    "colab_type": "code",
    "id": "wN1LmDu-b3s9"
   },
   "outputs": [],
   "source": [
    "#filter\n",
    "filter = np.zeros((3,3), dtype = 'float')\n",
    "filter[1,1] = -4\n",
    "filter[0,1] = 1\n",
    "filter[1,2] = 1\n",
    "filter[1,0] = 1\n",
    "filter[2,1] = 1\n",
    "print(filter)"
   ]
  },
  {
   "cell_type": "markdown",
   "metadata": {},
   "source": [
    "# Create Periodic Laplacian"
   ]
  },
  {
   "cell_type": "code",
   "execution_count": null,
   "metadata": {
    "colab": {
     "base_uri": "https://localhost:8080/",
     "height": 286
    },
    "colab_type": "code",
    "id": "Fg-8G5GI-MeU",
    "outputId": "8fe9150e-c766-4ecd-98cb-2321c437038c"
   },
   "outputs": [],
   "source": [
    "img = img_orig[:256, :256, 1] / 255\n",
    "(M,N) = img.shape\n",
    "l = np.zeros((M,N), dtype = 'float')\n",
    "\n",
    "# interior pixels\n",
    "l[1:M-1,1:N-1] = signal.convolve2d(img, filter, mode = 'valid')\n",
    "\n",
    "# edge pixels, but not corners\n",
    "for m in range(1,M - 1):  \n",
    "    l[m,0] = img[m-1,0] + img[m+1,0] + img[m,1] - 3*img[m,0]\n",
    "    l[m,N-1] = img[m-1,N-1] + img[m+1,N-1] + img[m,N-2] - 3*img[m,N-1]\n",
    "for n in range(1,N-1):\n",
    "    l[0,n] = img[1,n] + img[0,n-1] + img[0,n+1] - 3*img[0,n]\n",
    "    l[M-1,n] = img[M-2,n] + img[M-1,n-1] + img[M-1,n+1] - 3*img[M-1,n]\n",
    "\n",
    "# corner pixels\n",
    "l[0,0] = img[0,1] + img[1,0] - 2*img[0,0]\n",
    "l[0,N-1] = img[0,N-2] + img[1,N-1] - 2*img[0,N-1]\n",
    "l[M-1,0] = img[M-1,1] + img[M-2,0] - 2*img[M-1,0]\n",
    "l[M-1,N-1] = img[M-1,N-2] + img[M-2,N-1] - 2*img[M-1,N-1]\n",
    "\n",
    "l_hat = np.fft.fft2(l)\n",
    "p_hat = np.zeros((M,N), dtype = 'complex')\n",
    "for m in range(0,M): \n",
    "    for n in range(0,N):\n",
    "        if(n == 0 and m == 0):\n",
    "            p_hat[m,n] = np.sum(img)\n",
    "        else:\n",
    "            alpha = 4 - 2 * np.cos(2*n*np.pi/N) - 2 * np.cos(2*m*np.pi/M)\n",
    "            p_hat[m,n] = (-1/alpha) * l_hat[m,n]\n",
    "p_w_noise = p_hat * np.exp(1j*noise)\n",
    "texture = np.fft.ifft2(p_w_noise)\n",
    "plt.imshow(np.real(texture))"
   ]
  },
  {
   "cell_type": "code",
   "execution_count": null,
   "metadata": {},
   "outputs": [],
   "source": [
    "# For testing purposes\n",
    "\n",
    "# Get the periodic component\n",
    "p = np.fft.ifft2(p_hat)\n",
    "print('Max of the imaginary part of p: ', np.max(np.abs(np.imag(p))))\n",
    "\n",
    "# Plot\n",
    "plt.figure(figsize = (20,5))\n",
    "plt.subplot(1,3,1)\n",
    "plt.imshow(img)\n",
    "plt.grid(False)\n",
    "plt.colorbar()\n",
    "plt.title('Original image')\n",
    "plt.subplot(1,3,2)\n",
    "plt.imshow(np.real(p))\n",
    "plt.grid(False)\n",
    "plt.colorbar()\n",
    "plt.title('Periodic component')\n",
    "plt.subplot(1,3,3)\n",
    "plt.imshow(img - np.real(p))\n",
    "plt.grid(False)\n",
    "plt.colorbar()\n",
    "plt.title('Smooth component');\n"
   ]
  },
  {
   "cell_type": "markdown",
   "metadata": {
    "colab_type": "text",
    "id": "S277o9ZifFAk"
   },
   "source": [
    "# RPN w/ Color\n"
   ]
  },
  {
   "cell_type": "code",
   "execution_count": null,
   "metadata": {
    "colab": {},
    "colab_type": "code",
    "id": "OLiCrDcWb64k"
   },
   "outputs": [],
   "source": [
    "#filter\n",
    "filter = np.zeros((3,3), dtype = 'float')\n",
    "filter[1,1] = -4\n",
    "filter[0,1] = 1\n",
    "filter[1,2] = 1\n",
    "filter[1,0] = 1\n",
    "filter[2,1] = 1\n",
    "print(filter)"
   ]
  },
  {
   "cell_type": "code",
   "execution_count": null,
   "metadata": {
    "colab": {
     "base_uri": "https://localhost:8080/",
     "height": 575
    },
    "colab_type": "code",
    "id": "g_1AqQwufqh2",
    "outputId": "7d808c3d-a016-4a00-f765-e41d062cf14d"
   },
   "outputs": [],
   "source": [
    "img = img_orig[:256, :256, :]/255\n",
    "plt.figure()\n",
    "plt.imshow(img)\n",
    "(M,N,RGB) = img.shape\n",
    "l = np.zeros((M,N,RGB), dtype = 'complex') #only one tensor. more variables = expensive\n",
    "for i in range(RGB):\n",
    "    #interior\n",
    "    l[1:M-1,1:N-1,i] = signal.convolve2d(img[:,:,i], filter, mode = 'valid')\n",
    "    #edge pixels, but not corners\n",
    "    for m in range(1,M - 1):  \n",
    "        l[m,0,i] = img[m-1,0,i] + img[m+1,0,i] + img[m,1,i] - 3*img[m,0,i]\n",
    "        l[m,N-1,i] = img[m-1,N-1,i] + img[m+1,N-1,i] + img[m,n-2,i] - 3*img[m,N-1,i]\n",
    "    for n in range(1,N-1):\n",
    "        l[0,n,i] = img[1,n,i] + img[1,n-1,i] + img[0,n+1,i] - 3*img[0,n,i]\n",
    "        l[M-1,n,i] = img[M-2,n,i] + img[M-1,n-1,i] + img[M-1,n+1,i] - 3*img[M-1,n,i]\n",
    "    #corner pixels\n",
    "    l[0,0,i] = img[0,1,i] + img[1,0,i] - 2*img[0,0,i]\n",
    "    l[0,N-1,i] = img[0,N-2,i] + img[1,N-1,i] - 2*img[0,N-1,i]\n",
    "    l[M-1,0,i] = img[M-1,1,i] + img[M-2,0,i] - 2*img[M-1,0,i]\n",
    "    l[M-1,N-1,i] = img[M-1,N-2,i] + img[M-2,N-1,i] - 2*img[M-1,N-1,i]\n",
    "    l[:,:,i] = np.fft.fft2(l[:,:,i])\n",
    "    \n",
    "    #create periodic component\n",
    "    for m in range(1,M-1): \n",
    "        for n in range(1,N-1):\n",
    "            if(n == 0 and m == 0):\n",
    "                l[m,n,i] = np.sum(img[:,:,i])\n",
    "            else:\n",
    "                alpha = 4 - 2 * np.cos(2*n*np.pi/N) - 2 * np.cos(2*m*np.pi/M)\n",
    "                l[m,n,i] = -1/alpha * l[m,n,i]\n",
    "    l[:,:,i] = l[:,:,i] * np.exp(1j*noise)\n",
    "    l[:,:,i] = np.fft.ifft2(l[:,:,i])\n",
    "plt.figure()\n",
    "plt.imshow(np.real(l))\n",
    "    \n"
   ]
  },
  {
   "cell_type": "code",
   "execution_count": null,
   "metadata": {
    "colab": {
     "base_uri": "https://localhost:8080/",
     "height": 538
    },
    "colab_type": "code",
    "id": "hTXshCuG7l4T",
    "outputId": "1104aa03-495e-43c7-f492-b896939bd14e"
   },
   "outputs": [],
   "source": [
    "plt.figure()\n",
    "plt.imshow(img[:,:,0])\n",
    "plt.figure()\n",
    "plt.imshow(np.real(l[:,:,0]))"
   ]
  },
  {
   "cell_type": "markdown",
   "metadata": {
    "colab_type": "text",
    "id": "HTGzYC0c8qmg"
   },
   "source": [
    "# RPN for General Size w/ No color"
   ]
  },
  {
   "cell_type": "code",
   "execution_count": null,
   "metadata": {
    "colab": {
     "base_uri": "https://localhost:8080/",
     "height": 68
    },
    "colab_type": "code",
    "id": "_bF72dHq89y1",
    "outputId": "bcb88aab-d168-4861-9fe3-bc43b9cd4f4d"
   },
   "outputs": [],
   "source": [
    "#no color\n",
    "print('Original image pixels: ')\n",
    "print(img_orig[0:5,0:5,0])\n",
    "img = img_orig[:128,:256,0]/255\n",
    "print(img[0:5,0:5])\n",
    "\n",
    "#noise\n",
    "noise = np.zeros((img.shape[0],img.shape[1]), dtype = 'float')\n",
    "for n in range(img.shape[0]):\n",
    "    for m in range(img.shape[1]):\n",
    "        if(n ==0 and m ==0): \n",
    "          noise[n][m] = 0\n",
    "        else:\n",
    "          noise[n][m] = np.random.uniform(low = -np.pi, high = np.pi)\n",
    "#           noise[m][n] = noise[n][m]\n",
    "\n",
    "#filter\n",
    "filter = np.zeros((3,3), dtype = 'float')\n",
    "filter[1,1] = -4\n",
    "filter[0,1] = 1\n",
    "filter[1,2] = 1\n",
    "filter[1,0] = 1\n",
    "filter[2,1] = 1\n",
    "print(filter)\n"
   ]
  },
  {
   "cell_type": "code",
   "execution_count": null,
   "metadata": {
    "colab": {
     "base_uri": "https://localhost:8080/",
     "height": 236
    },
    "colab_type": "code",
    "id": "GwJYuBbq9E6u",
    "outputId": "84ba279c-0e4d-4071-bfba-c0ad9fb3d688"
   },
   "outputs": [],
   "source": [
    "(M,N) = img.shape\n",
    "l = np.zeros((M,N), dtype = 'complex')\n",
    "l[1:M-1,1:N-1] = signal.convolve2d(img, filter, mode = 'valid')\n",
    "#edge pixels, but not corners\n",
    "for m in range(1,M - 1):  \n",
    "    l[m,0] = img[m-1,0] + img[m+1,0] + img[m,1] - 3*img[m,0]\n",
    "    l[m,N-1] = img[m-1,N-1] + img[m+1,N-1] + img[m,N-2] - 3*img[m,N-1]\n",
    "for n in range(1,N-1):\n",
    "    l[0,n] = img[1,n] + img[1,n-1] + img[0,n+1] - 3*img[0,n]\n",
    "    l[M-1,n] = img[M-2,n] + img[M-1,n-1] + img[M-1,n+1] - 3*img[M-1,n]\n",
    "\n",
    "#corner pixels\n",
    "l[0,0] = img[0,1] + img[1,0] - 2*img[0,0]\n",
    "l[0,N-1] = img[0,N-2] + img[1,N-1] - 2*img[0,N-1]\n",
    "l[M-1,0] = img[M-1,1] + img[M-2,0] - 2*img[M-1,0]\n",
    "l[M-1,N-1] = img[M-1,N-2] + img[M-2,N-1] - 2*img[M-1,N-1]\n",
    "\n",
    "l = np.fft.fft2(l)\n",
    "for m in range(1,M-1): #interior pixels\n",
    "    for n in range(1,N-1):\n",
    "        if(n == 0 and m == 0):\n",
    "            l[m][n] = np.sum(img)\n",
    "        else:\n",
    "            alpha = 4 - 2 * np.cos(2*n*np.pi/N) - 2 * np.cos(2*m*np.pi/M)\n",
    "            l[m][n] = -1/alpha * l[m][n]\n",
    "l = l * np.exp(1j*noise)\n",
    "l = np.fft.ifft2(l)\n",
    "plt.imshow(np.real(l))"
   ]
  }
 ],
 "metadata": {
  "colab": {
   "collapsed_sections": [],
   "name": "Texture_Synthesis",
   "provenance": [],
   "toc_visible": true
  },
  "kernelspec": {
   "display_name": "Python 3",
   "language": "python",
   "name": "python3"
  },
  "language_info": {
   "codemirror_mode": {
    "name": "ipython",
    "version": 3
   },
   "file_extension": ".py",
   "mimetype": "text/x-python",
   "name": "python",
   "nbconvert_exporter": "python",
   "pygments_lexer": "ipython3",
   "version": "3.8.5"
  }
 },
 "nbformat": 4,
 "nbformat_minor": 1
}
